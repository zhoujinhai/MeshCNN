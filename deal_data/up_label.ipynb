{
 "cells": [
  {
   "cell_type": "code",
   "execution_count": 1,
   "metadata": {},
   "outputs": [],
   "source": [
    "import os \n",
    "import numpy as np\n",
    "from scipy import spatial\n",
    "import glob\n",
    "from multiprocessing import Process\n",
    "from tqdm import tqdm"
   ]
  },
  {
   "cell_type": "markdown",
   "metadata": {},
   "source": [
    "## 一、自定义函数"
   ]
  },
  {
   "cell_type": "markdown",
   "metadata": {},
   "source": [
    "### 1.获取模型信息"
   ]
  },
  {
   "cell_type": "code",
   "execution_count": 2,
   "metadata": {},
   "outputs": [],
   "source": [
    "def get_edges(faces):\n",
    "    \"\"\"\n",
    "    根据面得到相应的边\n",
    "    @faces: 模型的所有面\n",
    "    return: 模型的边\n",
    "    \"\"\"\n",
    "    edge2key = dict()\n",
    "    edges = []\n",
    "    edges_count = 0\n",
    "    for face_id, face in enumerate(faces):\n",
    "        faces_edges = []\n",
    "        for i in range(3):\n",
    "            cur_edge = (face[i], face[(i + 1) % 3])\n",
    "            faces_edges.append(cur_edge)\n",
    "        for idx, edge in enumerate(faces_edges):\n",
    "            edge = tuple(sorted(list(edge)))\n",
    "            if edge not in edge2key:\n",
    "                edge2key[edge] = edges_count\n",
    "                edges_count += 1\n",
    "                edges.append(list(edge))\n",
    "    return edges\n",
    "\n",
    "\n",
    "def parse_obje(obj_file):\n",
    "    \"\"\"\n",
    "    解析obj文件， 获取点，边，面\n",
    "    @obj_file: obj模型文件路径\n",
    "    return: 模型的点，边，面信息\n",
    "    \"\"\"\n",
    "    \n",
    "    vs = []\n",
    "    faces = []\n",
    "    edges = []\n",
    "\n",
    "    with open(obj_file) as f:\n",
    "        for line in f:\n",
    "            line = line.strip()\n",
    "            splitted_line = line.split()\n",
    "            if not splitted_line:\n",
    "                continue\n",
    "            elif splitted_line[0] == 'v':\n",
    "                vs.append([float(v) for v in splitted_line[1:]])\n",
    "            elif splitted_line[0] == 'f':\n",
    "                try:\n",
    "                    faces.append([int(c) - 1 for c in splitted_line[1:]])\n",
    "                except ValueError:\n",
    "                    faces.append([int(c.split('/')[0]) - 1 for c in splitted_line[1:]])                   \n",
    "            elif splitted_line[0] == 'e':\n",
    "                if len(splitted_line) >= 4:\n",
    "                    edge_v = [int(c) - 1 for c in splitted_line[1:-1]]\n",
    "                    edge_c = int(splitted_line[-1])\n",
    "                    edge_v.append(edge_c)                 # class\n",
    "                    edges.append(edge_v)           \n",
    "            else:\n",
    "                continue\n",
    "\n",
    "    vs = np.array(vs)\n",
    "    faces = np.array(faces, dtype=int)\n",
    "    if len(edges) == 0:\n",
    "        edges = get_edges(faces)\n",
    "    edges = np.array(edges)\n",
    "        \n",
    "    return vs, faces, edges"
   ]
  },
  {
   "cell_type": "markdown",
   "metadata": {},
   "source": [
    "### 2.根据边标记对面进行标记"
   ]
  },
  {
   "cell_type": "code",
   "execution_count": 3,
   "metadata": {},
   "outputs": [],
   "source": [
    "def label_face_by_edge(faces, edges, edge_labels):\n",
    "    \"\"\"\n",
    "    利用边标签对面进行标记\n",
    "    @faces: 模型的面\n",
    "    @edges: 模型的边\n",
    "    @edge_labels: 模型边对应的标签\n",
    "    return: 面的标签\n",
    "    \"\"\"\n",
    "    edge_dict = {}    # key: str([pt1, pt2]) value: label\n",
    "    for ei, edge in enumerate(edges):\n",
    "        key = tuple(edge)\n",
    "        edge_dict[key] = edge_labels[ei]\n",
    "    # print(edge_dict)\n",
    "    face_labels = np.array(len(faces) * [[-1, -1, -1]])\n",
    "    for i, face in enumerate(faces):\n",
    "        # faces_edges = []\n",
    "        for j in range(3):\n",
    "            cur_edge = [face[j], face[(j + 1) % 3]]\n",
    "            cur_label = edge_dict[tuple(sorted(cur_edge))]\n",
    "            face_labels[i][j] = cur_label\n",
    "            \n",
    "        # face_labels.append(faces_edges)\n",
    "    face_labels = np.where(np.sum(face_labels, axis=1)<2, 1, 2)\n",
    "    \n",
    "    return face_labels"
   ]
  },
  {
   "cell_type": "markdown",
   "metadata": {},
   "source": [
    "### 3.利用边对点进行标记"
   ]
  },
  {
   "cell_type": "code",
   "execution_count": 4,
   "metadata": {},
   "outputs": [],
   "source": [
    "def label_pts_by_edges(vs, edges, edge_labels):\n",
    "    \"\"\"\n",
    "    根据边标签，对点进行标注\n",
    "    @vs: 模型的点\n",
    "    @edge: 模型的边\n",
    "    @edge_labels: 模型边对应的标签\n",
    "    return: 模型点的标签\n",
    "    \"\"\"\n",
    "    pts_labels = np.array(len(vs) * [[-1, -1]])\n",
    "    for ei, edge in enumerate(edges):\n",
    "        edge_label = edge_labels[ei]\n",
    "        pt1 = edge[0]\n",
    "        pt2 = edge[1]\n",
    "        pts_labels[pt1][edge_label] = edge_label\n",
    "        pts_labels[pt2][edge_label] = edge_label\n",
    "    \n",
    "    return pts_labels"
   ]
  },
  {
   "cell_type": "markdown",
   "metadata": {},
   "source": [
    "### 4.边标签投影到原始模型"
   ]
  },
  {
   "cell_type": "code",
   "execution_count": 5,
   "metadata": {},
   "outputs": [],
   "source": [
    "def label_origin_edge(predict_edges, predict_labels, predict_vs, origin_edges, origin_vs):\n",
    "    \"\"\"\n",
    "    根据预测的边及标签，对原始模型的边进行标注\n",
    "    @predict_edges: 预测模型对应的边\n",
    "    @predict_labels: 预测模型对应的标签\n",
    "    @origin_edges: 原始模型的边\n",
    "    return: 原始模型边对应的标签\n",
    "    \"\"\"\n",
    "    predict_edge_pts = predict_vs[predict_edges].reshape(-1, 6)\n",
    "\n",
    "    tree = spatial.KDTree(predict_edge_pts)\n",
    "\n",
    "    origin_edge_pts = origin_vs[origin_edges].reshape(-1, 6)\n",
    "\n",
    "    origin_labels = []\n",
    "    for i, edge in enumerate(origin_edge_pts):\n",
    "#         if i % 50000 == 0:\n",
    "#             print(i, \"is finded!\")\n",
    "        dist, idx = tree.query(edge)\n",
    "        origin_labels.append(predict_labels[idx])\n",
    "    \n",
    "    return origin_labels"
   ]
  },
  {
   "cell_type": "markdown",
   "metadata": {},
   "source": [
    "### 5.点投影到原模型"
   ]
  },
  {
   "cell_type": "code",
   "execution_count": 6,
   "metadata": {},
   "outputs": [],
   "source": [
    "def project_points(predict_pts, origin_vs):\n",
    "    \"\"\"\n",
    "    根据预测的边，筛选出边界点，将点投影回原模型\n",
    "    @predict_pts: 边界点\n",
    "    @origin_vs: 原始模型所有点\n",
    "    return: 返回原始模型的边界点\n",
    "    \"\"\"\n",
    "    tree = spatial.KDTree(origin_vs)\n",
    "    \n",
    "    origin_pts = []\n",
    "    for i, pt in enumerate(predict_pts):\n",
    "        dist, idx = tree.query(pt)\n",
    "        origin_pts.append(origin_vs[idx])\n",
    "        \n",
    "    origin_pts = np.asarray(origin_pts)\n",
    "    return origin_pts\n",
    "    "
   ]
  },
  {
   "cell_type": "markdown",
   "metadata": {},
   "source": [
    "### 6.分开保存模型 便于显示"
   ]
  },
  {
   "cell_type": "code",
   "execution_count": 7,
   "metadata": {},
   "outputs": [],
   "source": [
    "def save_model_part(save_path, vs, faces, face_labels, model1_name=\"mesh1.obj\", model2_name=\"mesh2.obj\"):\n",
    "    \"\"\"\n",
    "    根据标签将模型标记的部分分别保存\n",
    "    @obj_vs: 模型的顶点\n",
    "    @obj_faces: 模型的面\n",
    "    @face_labels: 面的标签 \n",
    "    return: None\n",
    "    \"\"\"\n",
    "    mesh1 = open(os.path.join(save_path, model1_name), \"w\")\n",
    "    mesh2 = open(os.path.join(save_path, model2_name), \"w\")\n",
    "    for v in vs:\n",
    "        mesh1.write(\"v \" + str(v[0]) + \" \" + str(v[1]) + \" \" + str(v[2]) + \"\\n\")\n",
    "        mesh2.write(\"v \" + str(v[0]) + \" \" + str(v[1]) + \" \" + str(v[2]) + \"\\n\")\n",
    "\n",
    "    for idx, face in enumerate(faces):\n",
    "        if face_labels[idx] == 1:\n",
    "            mesh1.write(\"f \" + str(face[0]+1) + \" \" + str(face[1]+1) + \" \" + str(face[2]+1) + \"\\n\")\n",
    "        if face_labels[idx] == 2:\n",
    "            mesh2.write(\"f \" + str(face[0]+1) + \" \" + str(face[1]+1) + \" \" + str(face[2]+1) + \"\\n\")\n",
    "\n",
    "    mesh1.close()\n",
    "    mesh2.close()"
   ]
  },
  {
   "cell_type": "markdown",
   "metadata": {},
   "source": [
    "### 7. 导出边界点"
   ]
  },
  {
   "cell_type": "code",
   "execution_count": 8,
   "metadata": {},
   "outputs": [],
   "source": [
    "def save_pts_to_vtk(pts, save_path=\"./test.vtk\"):\n",
    "    \"\"\"\n",
    "    将牙龈点pts格式转为vtk格式\n",
    "    @pts: 点集 [[x, y, z], [x, y, z], ...]\n",
    "    @save_path: 保存路径\n",
    "    return: None\n",
    "    \"\"\"\n",
    "    import vtkplotter as vtkp\n",
    "    vtk_point = vtkp.Points(pts.reshape(-1, 3))\n",
    "    vtkp.write(vtk_point, save_path, binary=False)\n",
    "#     print(\"vtk file is saved in \", save_path)"
   ]
  },
  {
   "cell_type": "markdown",
   "metadata": {},
   "source": [
    "### 8.导出模型"
   ]
  },
  {
   "cell_type": "code",
   "execution_count": 9,
   "metadata": {},
   "outputs": [],
   "source": [
    "def export(file, vs, edges, faces, labels):\n",
    "    \"\"\"\n",
    "    将模型的点，边，面及边的标签保存\n",
    "    @file: 保存路径\n",
    "    @vs: 模型的点\n",
    "    @edges: 模型的边\n",
    "    @faces: 模型的面\n",
    "    @labels: 模型边的标签\n",
    "    \"\"\"\n",
    "    with open(file, 'w+') as f:\n",
    "        for vi, v in enumerate(vs):\n",
    "            vcol = ' %f %f %f' % (vcolor[vi, 0], vcolor[vi, 1], vcolor[vi, 2]) if vcolor is not None else ''\n",
    "            f.write(\"v %f %f %f%s\\n\" % (v[0], v[1], v[2], vcol))\n",
    "        for face_id in range(len(faces) - 1):\n",
    "            f.write(\"f %d %d %d\\n\" % (faces[face_id][0] , faces[face_id][1], faces[face_id][2] ))\n",
    "        for ei, edge in enumerate(edges):\n",
    "            f.write(\"\\ne %d %d %d\" % (edge[0] , edge[1], labels[ei]))"
   ]
  },
  {
   "cell_type": "markdown",
   "metadata": {},
   "source": [
    "## 二、主函数\n"
   ]
  },
  {
   "cell_type": "code",
   "execution_count": 10,
   "metadata": {},
   "outputs": [],
   "source": [
    "def show_predict(predict_model, origin_model, save_path):\n",
    "    \"\"\"\n",
    "    对预测的模型进行分析，找出牙龈线点，并对原始模型进行分割\n",
    "    @predict_model: 预测的模型\n",
    "    @origin_model: 预测对应的原始模型\n",
    "    @save_path: 结果保存路径\n",
    "    return: None\n",
    "    \"\"\"\n",
    "    # ------加载模型 获取信息------\n",
    "    ## 预测模型\n",
    "    predict_vs, predict_faces, predict_edges = parse_obje(predict_model)\n",
    "    predict_labels = predict_edges[:, -1]\n",
    "    predict_edges = predict_edges[:, :-1]\n",
    "    \n",
    "    ## 原始模型\n",
    "    origin_vs, origin_faces, origin_edges = parse_obje(origin_model)\n",
    "    \n",
    "    # ------处理预测模型------\n",
    "    ## 找预测的牙龈线点\n",
    "    predict_pts_labels = label_pts_by_edges(predict_vs, predict_edges, predict_labels)\n",
    "    predict_gum_pt_ids = np.where((predict_pts_labels[:,0]==0) & (predict_pts_labels[:,1]==1))[0]\n",
    "    predict_gum_pts = predict_vs[predict_gum_pt_ids]\n",
    "    \n",
    "    save_pts_to_vtk(predict_gum_pts, os.path.join(save_path, \"predict.vtk\"))\n",
    "    \n",
    "    ## 标记预测的面\n",
    "    predict_face_labels = label_face_by_edge(predict_faces, predict_edges, predict_labels)\n",
    "    save_model_part(save_path, predict_vs, predict_faces, predict_face_labels, \"predict1.obj\", \"predict2.obj\")\n",
    "    \n",
    "#     # ------原始模型处理------\n",
    "#     ## 投影点\n",
    "#     origin_gum_pts = project_points(predict_gum_pts, origin_vs)\n",
    "#     save_pts_to_vtk(origin_gum_pts, os.path.join(save_path, \"origin1.vtk\"))\n",
    "    \n",
    "#     ## 投影边\n",
    "#     origin_labels = label_origin_edge(predict_edges, predict_labels, predict_vs, origin_edges, origin_vs)\n",
    "#     origin_face_labels = label_face_by_edge(origin_faces, origin_edges, origin_labels)\n",
    "#     save_model_part(save_path, origin_vs, origin_faces, origin_face_labels,  \"origin1.obj\", \"origin2.obj\")\n",
    "    \n",
    "#     origin_pts_labels = label_pts_by_edges(origin_vs, origin_edges, origin_labels)\n",
    "#     origin_gum_pt_ids = np.where((origin_pts_labels[:,0]==0) & (origin_pts_labels[:,1]==1))[0]\n",
    "#     origin_gum_pts = origin_vs[origin_gum_pt_ids]\n",
    "#     save_pts_to_vtk(origin_gum_pts, os.path.join(save_path, \"origin2.vtk\"))"
   ]
  },
  {
   "cell_type": "markdown",
   "metadata": {},
   "source": [
    "### test"
   ]
  },
  {
   "cell_type": "code",
   "execution_count": 11,
   "metadata": {},
   "outputs": [],
   "source": [
    "# predict_model = \"./1R5DH_VS_SET_VSc1_Subsetup14_Mandibular_predict.obj\"\n",
    "# origin_model = \"./1R5DH_VS_SET_VSc1_Subsetup14_Mandibular_origin.obj\"\n",
    "# show_predict(predict_model, origin_model, \"./\")"
   ]
  },
  {
   "cell_type": "markdown",
   "metadata": {},
   "source": [
    "#### 导出模型"
   ]
  },
  {
   "cell_type": "code",
   "execution_count": 12,
   "metadata": {},
   "outputs": [],
   "source": [
    "# export(\"./export.obj\", origin_vs, origin_edges, origin_faces, origin_labels)"
   ]
  },
  {
   "cell_type": "markdown",
   "metadata": {},
   "source": [
    "## 三、批量处理"
   ]
  },
  {
   "cell_type": "code",
   "execution_count": 11,
   "metadata": {},
   "outputs": [],
   "source": [
    "def show_predict_batch(predict_model_list, predict_path, origin_path):\n",
    "    \"\"\"\n",
    "    批量处理预测模型\n",
    "    @predict_model_list: 预测的模型列表\n",
    "    @predict_path: 预测模型存放路径\n",
    "    @origin_path: 原始模型存放路径\n",
    "    return: None\n",
    "    \"\"\"\n",
    "    for i, predict_model in enumerate(tqdm(predict_model_list)):\n",
    "        origin_model_basename = os.path.basename(predict_model)[:-6]\n",
    "        origin_model_name = origin_model_basename + \".obj\"\n",
    "        origin_model = os.path.join(origin_path, origin_model_name)\n",
    "        if not os.path.isfile(origin_model):\n",
    "            print(origin_model, \"not find!\")\n",
    "            continue\n",
    "\n",
    "        save_dir = os.path.join(predict_path, origin_model_basename)\n",
    "        if not os.path.exists(save_dir):\n",
    "            os.makedirs(save_dir)\n",
    "\n",
    "        show_predict(predict_model, origin_model, save_dir)"
   ]
  },
  {
   "cell_type": "code",
   "execution_count": 12,
   "metadata": {},
   "outputs": [],
   "source": [
    "\n",
    "def parallel_show_predict(model_list, predict_path, origin_path, n_workers=8):\n",
    "    \"\"\"\n",
    "    多进程处理\n",
    "    \"\"\"\n",
    "    if len(model_list) < n_workers:\n",
    "        n_workers = len(model_list)\n",
    "    chunk_len = len(model_list) // n_workers\n",
    "\n",
    "    chunk_lists = [model_list[i:i+chunk_len] for i in range(0, (n_workers-1)*chunk_len, chunk_len)]\n",
    "    chunk_lists.append(model_list[(n_workers - 1)*chunk_len:])\n",
    "    \n",
    "    process_list = [Process(target=show_predict_batch, args=(chunk_list, predict_path, origin_path, )) for chunk_list in chunk_lists]\n",
    "    for process in process_list:\n",
    "        process.start()\n",
    "    for process in process_list:\n",
    "        process.join()"
   ]
  },
  {
   "cell_type": "code",
   "execution_count": 13,
   "metadata": {},
   "outputs": [
    {
     "name": "stderr",
     "output_type": "stream",
     "text": [
      "100%|██████████| 8/8 [00:20<00:00,  2.62s/it]]\n",
      "100%|██████████| 8/8 [00:20<00:00,  2.62s/it]\n",
      "100%|██████████| 8/8 [00:22<00:00,  2.79s/it]]\n",
      "100%|██████████| 8/8 [00:23<00:00,  2.91s/it]\n",
      "100%|██████████| 8/8 [00:23<00:00,  2.95s/it]\n",
      "100%|██████████| 8/8 [00:24<00:00,  3.01s/it]\n",
      "100%|██████████| 8/8 [00:25<00:00,  3.15s/it]]\n",
      "100%|██████████| 14/14 [00:31<00:00,  2.22s/it]\n"
     ]
    }
   ],
   "source": [
    "predict_path = \"/home/heygears/work/Tooth_data_prepare/model_test/predict_mesh_obj_20201210_100/\"\n",
    "origin_path = \"/home/heygears/work/Tooth_data_prepare/model_test/origin_mesh_obj/\"\n",
    "\n",
    "predict_model_list = glob.glob(os.path.join(predict_path, \"*.obj\"))\n",
    "parallel_show_predict(predict_model_list, predict_path, origin_path, n_workers=8)"
   ]
  },
  {
   "cell_type": "code",
   "execution_count": null,
   "metadata": {},
   "outputs": [],
   "source": []
  }
 ],
 "metadata": {
  "kernelspec": {
   "display_name": "Python 3",
   "language": "python",
   "name": "python3"
  },
  "language_info": {
   "codemirror_mode": {
    "name": "ipython",
    "version": 3
   },
   "file_extension": ".py",
   "mimetype": "text/x-python",
   "name": "python",
   "nbconvert_exporter": "python",
   "pygments_lexer": "ipython3",
   "version": "3.6.8"
  }
 },
 "nbformat": 4,
 "nbformat_minor": 4
}
