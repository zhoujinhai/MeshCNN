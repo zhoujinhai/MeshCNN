{
 "cells": [
  {
   "cell_type": "code",
   "execution_count": 1,
   "metadata": {},
   "outputs": [],
   "source": [
    "import os \n",
    "import numpy as np\n",
    "from glob import glob"
   ]
  },
  {
   "cell_type": "markdown",
   "metadata": {},
   "source": [
    "## 一、获取模型信息"
   ]
  },
  {
   "cell_type": "code",
   "execution_count": 2,
   "metadata": {},
   "outputs": [],
   "source": [
    "def get_edges(faces):\n",
    "    \"\"\"\n",
    "    根据面得到相应的边\n",
    "    @faces: 模型的所有面\n",
    "    return: 模型的边\n",
    "    \"\"\"\n",
    "    edge2key = dict()\n",
    "    edges = []\n",
    "    edges_count = 0\n",
    "    for face_id, face in enumerate(faces):\n",
    "        faces_edges = []\n",
    "        for i in range(3):\n",
    "            cur_edge = (face[i], face[(i + 1) % 3])\n",
    "            faces_edges.append(cur_edge)\n",
    "        for idx, edge in enumerate(faces_edges):\n",
    "            edge = tuple(sorted(list(edge)))\n",
    "            if edge not in edge2key:\n",
    "                edge2key[edge] = edges_count\n",
    "                edges_count += 1\n",
    "                edges.append(list(edge))\n",
    "    return edges\n",
    "\n",
    "\n",
    "def parse_obje(obj_file):\n",
    "    \"\"\"\n",
    "    解析obj文件， 获取点，边，面\n",
    "    @obj_file: obj模型文件路径\n",
    "    return: 模型的点，边，面信息\n",
    "    \"\"\"\n",
    "    \n",
    "    vs = []\n",
    "    faces = []\n",
    "    edges = []\n",
    "\n",
    "    with open(obj_file) as f:\n",
    "        for line in f:\n",
    "            line = line.strip()\n",
    "            splitted_line = line.split()\n",
    "            if not splitted_line:\n",
    "                continue\n",
    "            elif splitted_line[0] == 'v':\n",
    "                vs.append([float(v) for v in splitted_line[1:]])\n",
    "            elif splitted_line[0] == 'f':\n",
    "                try:\n",
    "                    faces.append([int(c) - 1 for c in splitted_line[1:]])\n",
    "                except ValueError:\n",
    "                    faces.append([int(c.split('/')[0]) - 1 for c in splitted_line[1:]])                   \n",
    "            elif splitted_line[0] == 'e':\n",
    "                if len(splitted_line) >= 4:\n",
    "                    edge_v = [int(c) - 1 for c in splitted_line[1:-1]]\n",
    "                    edge_c = int(splitted_line[-1])\n",
    "                    edge_v.append(edge_c)                 # class\n",
    "                    edges.append(edge_v)           \n",
    "            else:\n",
    "                continue\n",
    "\n",
    "    vs = np.array(vs)\n",
    "    faces = np.array(faces, dtype=int)\n",
    "    if len(edges) == 0:\n",
    "        edges = get_edges(faces)\n",
    "    edges = np.array(edges)\n",
    "        \n",
    "    return vs, faces, edges"
   ]
  },
  {
   "cell_type": "markdown",
   "metadata": {},
   "source": [
    "## 二、error: zero_area_face"
   ]
  },
  {
   "cell_type": "code",
   "execution_count": 6,
   "metadata": {},
   "outputs": [],
   "source": [
    "def compute_face_normals_and_areas(vs, faces):\n",
    "    \"\"\"\n",
    "    计算每个面的法向量和面积\n",
    "    \"\"\"\n",
    "    face_normals = np.cross(vs[faces[:, 1]] - vs[faces[:, 0]],\n",
    "                            vs[faces[:, 2]] - vs[faces[:, 1]])\n",
    "    \n",
    "    # ----- deal zero face ------\n",
    "    # Case1: Collinear\n",
    "    zeros_idx = np.argwhere((face_normals[:,0]==0) & (face_normals[:,1]==0) & (face_normals[:,2]==0))\n",
    "    # print(zeros_idx)\n",
    "    # TODO: 对错误的进行调整 取平均值是否可行？\n",
    "    normal_mean = np.mean(face_normals, axis=0)\n",
    "    print(\"normal mean: \", normal_mean)\n",
    "    for idx in zeros_idx:\n",
    "        face_normals[idx] = normal_mean\n",
    "    # Case2: ？？？\n",
    "    \n",
    "    face_areas = np.sqrt((face_normals ** 2).sum(axis=1))\n",
    "    # print(\"n_faces: \", len(faces), mesh.filename)\n",
    "    face_normals /= face_areas[:, np.newaxis]\n",
    "    \n",
    "    assert (not np.any(face_areas[:, np.newaxis] == 0)), 'has zero area face'\n",
    "    face_areas *= 0.5\n",
    "    return face_normals, face_areas"
   ]
  },
  {
   "cell_type": "code",
   "execution_count": 8,
   "metadata": {},
   "outputs": [
    {
     "data": {
      "text/plain": [
       "['/home/heygears/work/Tooth_data_prepare/model_test/error_model/train/zero_area_face/23RMQ_VS_SET_VSc1_Subsetup8_Mandibular.obj',\n",
       " '/home/heygears/work/Tooth_data_prepare/model_test/error_model/train/zero_area_face/8M2JR_VS_SET_VSc3_Subsetup16_Maxillar.obj',\n",
       " '/home/heygears/work/Tooth_data_prepare/model_test/error_model/train/zero_area_face/6DS6F_VS_SET_VSc2_Subsetup12_Mandibular.obj',\n",
       " '/home/heygears/work/Tooth_data_prepare/model_test/error_model/train/zero_area_face/632WS_VS_SET_VSc1_Subsetup15_Maxillar.obj',\n",
       " '/home/heygears/work/Tooth_data_prepare/model_test/error_model/train/zero_area_face/XZMTU_VS_SET_VSc2_Subsetup13_Maxillar.obj']"
      ]
     },
     "execution_count": 8,
     "metadata": {},
     "output_type": "execute_result"
    }
   ],
   "source": [
    "test_error_path = \"/home/heygears/work/Tooth_data_prepare/model_test/error_model/train/zero_area_face\"\n",
    "model_list = glob(os.path.join(test_error_path, \"*.obj\"))\n",
    "model_list"
   ]
  },
  {
   "cell_type": "code",
   "execution_count": 7,
   "metadata": {},
   "outputs": [
    {
     "name": "stdout",
     "output_type": "stream",
     "text": [
      "normal mean:  [ 2.18713936e-18 -1.69377967e-17  1.09423581e-16]\n",
      "normal mean:  [ 1.80072970e-17  2.15318215e-17 -2.11120010e-16]\n",
      "normal mean:  [ 6.73738842e-17  6.87720714e-17 -1.16990861e-15]\n",
      "normal mean:  [ 1.07349459e-17 -9.75163093e-17  8.71480665e-16]\n",
      "normal mean:  [ 3.78778606e-17  2.71426978e-17 -7.75668418e-16]\n"
     ]
    }
   ],
   "source": [
    "for i, model_path in enumerate(model_list):\n",
    "    obj_vs, obj_faces, obj_edges = parse_obje(model_path)\n",
    "    compute_face_normals_and_areas(obj_vs, obj_faces)"
   ]
  },
  {
   "cell_type": "markdown",
   "metadata": {},
   "source": [
    "### 测试单个\n",
    "#### 1、下采样后模型"
   ]
  },
  {
   "cell_type": "code",
   "execution_count": 6,
   "metadata": {},
   "outputs": [
    {
     "data": {
      "text/plain": [
       "5000"
      ]
     },
     "execution_count": 6,
     "metadata": {},
     "output_type": "execute_result"
    }
   ],
   "source": [
    "obj_vs, obj_faces, obj_edges = parse_obje(model_list[0])\n",
    "len(obj_faces)"
   ]
  },
  {
   "cell_type": "code",
   "execution_count": 7,
   "metadata": {},
   "outputs": [],
   "source": [
    "face_normals = np.cross(obj_vs[obj_faces[:, 1]] - obj_vs[obj_faces[:, 0]],\n",
    "                            obj_vs[obj_faces[:, 2]] - obj_vs[obj_faces[:, 0]])"
   ]
  },
  {
   "cell_type": "code",
   "execution_count": 8,
   "metadata": {},
   "outputs": [
    {
     "data": {
      "text/plain": [
       "array([[ 1.71525820e+00,  1.39445200e+00,  7.56778633e-02],\n",
       "       [ 1.01242707e+00,  1.22013991e+00, -1.17839972e-01],\n",
       "       [ 1.86599495e+00, -1.24528945e+00,  1.51754871e+00],\n",
       "       ...,\n",
       "       [ 3.06748695e-03,  3.87738707e-04, -2.55378255e+00],\n",
       "       [-3.29822436e-04,  2.90588371e-03, -2.13824729e+00],\n",
       "       [-2.48862571e-03, -1.81972596e-03, -5.09452535e+00]])"
      ]
     },
     "execution_count": 8,
     "metadata": {},
     "output_type": "execute_result"
    }
   ],
   "source": [
    "face_normals"
   ]
  },
  {
   "cell_type": "code",
   "execution_count": 9,
   "metadata": {},
   "outputs": [],
   "source": [
    "def pts_to_vtk(gum_line_pts, save_path=\"./test.vtk\"):\n",
    "    \"\"\"\n",
    "    将牙龈点pts格式转为vtk格式\n",
    "    @pts: 点集 [[x, y, z], [x, y, z], ...]\n",
    "    @save_path: 保存路径\n",
    "    return: None\n",
    "    \"\"\"\n",
    "    import vtkplotter as vtkp\n",
    "    vtk_point = vtkp.Points(gum_line_pts.reshape(-1, 3))\n",
    "    vtkp.write(vtk_point, save_path, binary=False)\n",
    "    print(\"vtk file is saved in \", save_path)"
   ]
  },
  {
   "cell_type": "code",
   "execution_count": 10,
   "metadata": {},
   "outputs": [
    {
     "data": {
      "text/plain": [
       "array([[  98],\n",
       "       [1402]])"
      ]
     },
     "execution_count": 10,
     "metadata": {},
     "output_type": "execute_result"
    }
   ],
   "source": [
    "error_idx = np.argwhere((face_normals[:,0]==0) & (face_normals[:,1]==0) & (face_normals[:,2]==0))\n",
    "error_idx"
   ]
  },
  {
   "cell_type": "code",
   "execution_count": 11,
   "metadata": {},
   "outputs": [
    {
     "name": "stdout",
     "output_type": "stream",
     "text": [
      "vtk file is saved in  ./test.vtk\n"
     ]
    }
   ],
   "source": [
    "pts = []\n",
    "for idx in error_idx:\n",
    "    for vertex_id in obj_faces[idx][0]:\n",
    "        pts.append(obj_vs[vertex_id])\n",
    "pts_to_vtk(np.asarray(pts))"
   ]
  },
  {
   "cell_type": "code",
   "execution_count": 12,
   "metadata": {},
   "outputs": [
    {
     "data": {
      "text/plain": [
       "array([ 0.00849412,  0.3082446 , -0.94659179])"
      ]
     },
     "execution_count": 12,
     "metadata": {},
     "output_type": "execute_result"
    }
   ],
   "source": [
    "face_normals[51]"
   ]
  },
  {
   "cell_type": "code",
   "execution_count": 13,
   "metadata": {},
   "outputs": [
    {
     "data": {
      "text/plain": [
       "array([  45, 1712, 1525])"
      ]
     },
     "execution_count": 13,
     "metadata": {},
     "output_type": "execute_result"
    }
   ],
   "source": [
    "obj_faces[51]"
   ]
  },
  {
   "cell_type": "code",
   "execution_count": 14,
   "metadata": {},
   "outputs": [
    {
     "name": "stdout",
     "output_type": "stream",
     "text": [
      "[-10.064562  23.082346   5.303358] [ 30.175774 -10.169944   9.648704] [-25.77187    7.551851   7.875569]\n"
     ]
    }
   ],
   "source": [
    "print(obj_vs[67], obj_vs[68], obj_vs[69])"
   ]
  },
  {
   "cell_type": "code",
   "execution_count": 15,
   "metadata": {},
   "outputs": [
    {
     "data": {
      "text/plain": [
       "array([2.21186216, 1.58985415, 2.70843812, ..., 2.55378442, 2.13824929,\n",
       "       5.09452629])"
      ]
     },
     "execution_count": 15,
     "metadata": {},
     "output_type": "execute_result"
    }
   ],
   "source": [
    "face_areas = np.sqrt((face_normals ** 2).sum(axis=1))\n",
    "face_areas"
   ]
  },
  {
   "cell_type": "code",
   "execution_count": 16,
   "metadata": {},
   "outputs": [
    {
     "data": {
      "text/plain": [
       "True"
      ]
     },
     "execution_count": 16,
     "metadata": {},
     "output_type": "execute_result"
    }
   ],
   "source": [
    "0 in face_areas"
   ]
  },
  {
   "cell_type": "markdown",
   "metadata": {},
   "source": [
    "#### 利用vedo库将stl转obj  "
   ]
  },
  {
   "cell_type": "code",
   "execution_count": 17,
   "metadata": {},
   "outputs": [],
   "source": [
    "origin_vs, origin_faces, origin_edges = parse_obje(\"/home/heygears/work/Tooth_data_prepare/model_test/origin_mesh_obj/459650_1_L_19.obj\")"
   ]
  },
  {
   "cell_type": "code",
   "execution_count": 18,
   "metadata": {},
   "outputs": [],
   "source": [
    "origin_face_normals = np.cross(origin_vs[origin_faces[:, 1]] - origin_vs[origin_faces[:, 0]],\n",
    "                            origin_vs[origin_faces[:, 2]] - origin_vs[origin_faces[:, 0]])"
   ]
  },
  {
   "cell_type": "code",
   "execution_count": 19,
   "metadata": {},
   "outputs": [
    {
     "data": {
      "text/plain": [
       "array([[ 751],\n",
       "       [ 762],\n",
       "       [ 764],\n",
       "       [1029]])"
      ]
     },
     "execution_count": 19,
     "metadata": {},
     "output_type": "execute_result"
    }
   ],
   "source": [
    "np.argwhere((origin_face_normals[:,0]==0) & (origin_face_normals[:,1]==0) & (origin_face_normals[:,2]==0))"
   ]
  },
  {
   "cell_type": "code",
   "execution_count": 20,
   "metadata": {},
   "outputs": [
    {
     "name": "stdout",
     "output_type": "stream",
     "text": [
      "142828 285648 428472\n"
     ]
    }
   ],
   "source": [
    "print(len(origin_vs), len(origin_faces), len(origin_edges))"
   ]
  },
  {
   "cell_type": "markdown",
   "metadata": {},
   "source": [
    "#### 利用hgapi将stl转obj模型"
   ]
  },
  {
   "cell_type": "code",
   "execution_count": 21,
   "metadata": {},
   "outputs": [
    {
     "data": {
      "text/plain": [
       "True"
      ]
     },
     "execution_count": 21,
     "metadata": {},
     "output_type": "execute_result"
    }
   ],
   "source": [
    "import hgapi\n",
    "stl_handler = hgapi.STLFileHandler()\n",
    "mesh = hgapi.Mesh()\n",
    "file_name = \"/home/heygears/work/Tooth_data_prepare/model_test/originMesh/459650_1_L_19.stl\"\n",
    "stl_handler.Read(file_name, mesh)\n",
    "\n",
    "obj_handler = hgapi.OBJFileHandler()\n",
    "obj_handler.Write(\"./test.obj\", mesh)"
   ]
  },
  {
   "cell_type": "code",
   "execution_count": 22,
   "metadata": {},
   "outputs": [],
   "source": [
    "origin_vs, origin_faces, origin_edges = parse_obje(\"./test.obj\")"
   ]
  },
  {
   "cell_type": "code",
   "execution_count": 23,
   "metadata": {},
   "outputs": [
    {
     "data": {
      "text/plain": [
       "array([[ 751],\n",
       "       [ 762],\n",
       "       [ 764],\n",
       "       [1029]])"
      ]
     },
     "execution_count": 23,
     "metadata": {},
     "output_type": "execute_result"
    }
   ],
   "source": [
    "origin_face_normals = np.cross(origin_vs[origin_faces[:, 1]] - origin_vs[origin_faces[:, 0]],\n",
    "                            origin_vs[origin_faces[:, 2]] - origin_vs[origin_faces[:, 0]])\n",
    "np.argwhere((origin_face_normals[:,0]==0) & (origin_face_normals[:,1]==0) & (origin_face_normals[:,2]==0))"
   ]
  },
  {
   "cell_type": "markdown",
   "metadata": {},
   "source": [
    "#### 原始stl模型"
   ]
  },
  {
   "cell_type": "code",
   "execution_count": 24,
   "metadata": {},
   "outputs": [
    {
     "name": "stdout",
     "output_type": "stream",
     "text": [
      "285648 []\n"
     ]
    }
   ],
   "source": [
    "stl_handler = hgapi.STLFileHandler()\n",
    "mesh = hgapi.Mesh()\n",
    "file_name = \"/home/heygears/work/Tooth_data_prepare/model_test/originMesh/459650_1_L_19.stl\"\n",
    "stl_handler.Read(file_name, mesh)\n",
    "\n",
    "mesh.GenerateFaceNormal(bGenerateFaceArea=True)\n",
    "normal = mesh.GetFaceNormal()\n",
    "area = mesh.GetFaceArea()\n",
    "face_areas = np.array(list(area))\n",
    "print(len(face_areas), np.argwhere(face_areas == 0))"
   ]
  },
  {
   "cell_type": "markdown",
   "metadata": {},
   "source": [
    "## 三、index is negative"
   ]
  },
  {
   "cell_type": "code",
   "execution_count": 25,
   "metadata": {},
   "outputs": [
    {
     "data": {
      "text/plain": [
       "1"
      ]
     },
     "execution_count": 25,
     "metadata": {},
     "output_type": "execute_result"
    }
   ],
   "source": [
    "test_error_path = \"/home/heygears/work/Tooth_data_prepare/model_test/error_model/train/index_is_negative/\"\n",
    "model_list = glob(os.path.join(test_error_path, \"*.obj\"))\n",
    "len(model_list)"
   ]
  },
  {
   "cell_type": "code",
   "execution_count": 26,
   "metadata": {},
   "outputs": [],
   "source": [
    "obj_vs, obj_faces, obj_edges = parse_obje(model_list[0])"
   ]
  },
  {
   "cell_type": "code",
   "execution_count": 27,
   "metadata": {},
   "outputs": [
    {
     "data": {
      "text/plain": [
       "array([[1016, 1243,  285],\n",
       "       [ 963, 1035,  204],\n",
       "       [ 821,  215,  833],\n",
       "       ...,\n",
       "       [1386, 1683,   52],\n",
       "       [1683, 1445,  211],\n",
       "       [1683,  158, 1445]])"
      ]
     },
     "execution_count": 27,
     "metadata": {},
     "output_type": "execute_result"
    }
   ],
   "source": [
    "obj_faces"
   ]
  },
  {
   "cell_type": "code",
   "execution_count": 30,
   "metadata": {},
   "outputs": [
    {
     "data": {
      "text/plain": [
       "array([], shape=(0, 2), dtype=int64)"
      ]
     },
     "execution_count": 30,
     "metadata": {},
     "output_type": "execute_result"
    }
   ],
   "source": [
    "np.argwhere(obj_faces < 0)"
   ]
  },
  {
   "cell_type": "markdown",
   "metadata": {},
   "source": [
    "## 四、index out of range"
   ]
  },
  {
   "cell_type": "code",
   "execution_count": 31,
   "metadata": {},
   "outputs": [
    {
     "data": {
      "text/plain": [
       "9"
      ]
     },
     "execution_count": 31,
     "metadata": {},
     "output_type": "execute_result"
    }
   ],
   "source": [
    "test_error_path = \"/home/heygears/work/Tooth_data_prepare/model_test/error_model/train/index_out_of_range/\"\n",
    "model_list = glob(os.path.join(test_error_path, \"*.obj\"))\n",
    "len(model_list)"
   ]
  },
  {
   "cell_type": "code",
   "execution_count": 39,
   "metadata": {},
   "outputs": [
    {
     "name": "stdout",
     "output_type": "stream",
     "text": [
      "0 2154 5000 7500\n",
      "[]\n",
      "1 2074 5000 7500\n",
      "[]\n",
      "2 2132 5000 7500\n",
      "[]\n",
      "3 2026 5000 7500\n",
      "[]\n",
      "4 2042 5000 7500\n",
      "[]\n",
      "5 2060 5000 7500\n",
      "[]\n",
      "6 2142 5000 7500\n",
      "[]\n",
      "7 2152 5000 7500\n",
      "[]\n",
      "8 2028 5000 7500\n",
      "[]\n"
     ]
    }
   ],
   "source": [
    "for i, model_path in enumerate(model_list):\n",
    "    obj_vs, obj_faces, obj_edges = parse_obje(model_path)\n",
    "    print(i, len(obj_vs), len(obj_faces), len(obj_edges))\n",
    "    check_id = np.argwhere(obj_faces<0)\n",
    "    print(check_id)"
   ]
  },
  {
   "cell_type": "markdown",
   "metadata": {},
   "source": [
    "## 数据特征提取"
   ]
  },
  {
   "cell_type": "code",
   "execution_count": 25,
   "metadata": {},
   "outputs": [],
   "source": [
    "def pad(input_arr, target_length, val=0, dim=1):\n",
    "    shp = input_arr.shape\n",
    "    print(\"shp: \", shp, len(shp))\n",
    "    npad = [(0, 0) for _ in range(len(shp))]\n",
    "    npad[dim] = (0, target_length - shp[dim])\n",
    "    return np.pad(input_arr, pad_width=npad, mode='constant', constant_values=val)\n"
   ]
  },
  {
   "cell_type": "code",
   "execution_count": 22,
   "metadata": {},
   "outputs": [],
   "source": [
    "def read_seg(seg):\n",
    "    seg_labels = np.loadtxt(open(seg, 'r'), dtype='float64')\n",
    "    return seg_labels"
   ]
  },
  {
   "cell_type": "code",
   "execution_count": 23,
   "metadata": {},
   "outputs": [
    {
     "data": {
      "text/plain": [
       "7500"
      ]
     },
     "execution_count": 23,
     "metadata": {},
     "output_type": "execute_result"
    }
   ],
   "source": [
    "label = read_seg(\"/home/heygears/work/github/MeshCNN/datasets/tooth_seg/seg/1PT7E_VS_SET_VSc2_Subsetup_Retainer_Maxillar.eseg\")\n",
    "len(label)"
   ]
  },
  {
   "cell_type": "code",
   "execution_count": 26,
   "metadata": {},
   "outputs": [
    {
     "name": "stdout",
     "output_type": "stream",
     "text": [
      "shp:  (7500,) 1\n"
     ]
    },
    {
     "data": {
      "text/plain": [
       "7600"
      ]
     },
     "execution_count": 26,
     "metadata": {},
     "output_type": "execute_result"
    }
   ],
   "source": [
    "ninput_edges = 7600\n",
    "pad_label = pad(label, ninput_edges, val=-1, dim=0)\n",
    "len(pad_label)"
   ]
  },
  {
   "cell_type": "code",
   "execution_count": 29,
   "metadata": {},
   "outputs": [
    {
     "data": {
      "text/plain": [
       "array([1, 2, 3, 4, 5, 4, 4, 4])"
      ]
     },
     "execution_count": 29,
     "metadata": {},
     "output_type": "execute_result"
    }
   ],
   "source": [
    "a = [1, 2, 3, 4, 5]\n",
    "\n",
    "np.pad(a, (0, 3), 'constant', constant_values=(4))"
   ]
  },
  {
   "cell_type": "code",
   "execution_count": 30,
   "metadata": {},
   "outputs": [
    {
     "data": {
      "text/plain": [
       "array([1, 1, 1, 2, 3, 4, 5, 5, 5, 5])"
      ]
     },
     "execution_count": 30,
     "metadata": {},
     "output_type": "execute_result"
    }
   ],
   "source": [
    "np.pad(a, (2, 3), 'edge')"
   ]
  },
  {
   "cell_type": "code",
   "execution_count": null,
   "metadata": {},
   "outputs": [],
   "source": []
  }
 ],
 "metadata": {
  "kernelspec": {
   "display_name": "Python 3",
   "language": "python",
   "name": "python3"
  },
  "language_info": {
   "codemirror_mode": {
    "name": "ipython",
    "version": 3
   },
   "file_extension": ".py",
   "mimetype": "text/x-python",
   "name": "python",
   "nbconvert_exporter": "python",
   "pygments_lexer": "ipython3",
   "version": "3.6.8"
  }
 },
 "nbformat": 4,
 "nbformat_minor": 4
}
