{
 "cells": [
  {
   "cell_type": "code",
   "execution_count": 1,
   "metadata": {},
   "outputs": [],
   "source": [
    "import numpy as np\n",
    "import os\n",
    "import glob\n",
    "import shutil"
   ]
  },
  {
   "cell_type": "code",
   "execution_count": 2,
   "metadata": {},
   "outputs": [],
   "source": [
    "def get_gum_line_pts(gum_line_path):\n",
    "    \"\"\"\n",
    "    读取前台生成牙龈线文件，pts格式\n",
    "    \"\"\"\n",
    "    f = open(gum_line_path)\n",
    "    pts = []\n",
    "\n",
    "    for num, line in enumerate(f):\n",
    "        line = line.strip()\n",
    "        if line == \"BEGIN_0\":\n",
    "            continue\n",
    "        elif line == \"END_0\":\n",
    "            pts.append(pts[0])\n",
    "        else:\n",
    "            splitted_line = line.split()\n",
    "            point = [float(i) for i in splitted_line][:3]  # 只取点坐标，去掉法向量\n",
    "            assert len(point) == 3, \"点的坐标为x,y,z\"\n",
    "            pts.append(point)\n",
    "\n",
    "    f.close()\n",
    "    pts = np.asarray(pts)\n",
    "    return pts"
   ]
  },
  {
   "cell_type": "code",
   "execution_count": 3,
   "metadata": {},
   "outputs": [],
   "source": [
    "def find_all_file(base):\n",
    "    for root, ds, fs in os.walk(base):\n",
    "        for f in fs:\n",
    "            fullname = os.path.join(root, f)\n",
    "            yield fullname"
   ]
  },
  {
   "cell_type": "code",
   "execution_count": 4,
   "metadata": {},
   "outputs": [],
   "source": [
    "def pts_to_vtk(gum_line_pts, save_path=\"./test.vtk\"):\n",
    "    \"\"\"\n",
    "    将牙龈点pts格式转为vtk格式\n",
    "    @pts: 点集 [[x, y, z], [x, y, z], ...]\n",
    "    @save_path: 保存路径\n",
    "    return: None\n",
    "    \"\"\"\n",
    "    import vtkplotter as vtkp\n",
    "    vtk_point = vtkp.Points(gum_line_pts.reshape(-1, 3))\n",
    "    vtkp.write(vtk_point, save_path, binary=False)\n",
    "    print(\"vtk file is saved in \", save_path)"
   ]
  },
  {
   "cell_type": "code",
   "execution_count": 5,
   "metadata": {},
   "outputs": [],
   "source": [
    "test_path = \"/home/heygears/work/Tooth_data_prepare/tooth/need_change/streamflow\"\n",
    "pts_path = \"/home/heygears/work/Tooth_data_prepare/tooth/need_change/pts\"\n",
    "stl_path = \"/home/heygears/work/Tooth_data_prepare/tooth/need_change/stl\"\n",
    "\n",
    "new_pts_path = \"/home/heygears/work/Tooth_data_prepare/tooth/need_change/pts\"\n",
    "vtk_path = \"/home/heygears/work/Tooth_data_prepare/tooth/need_change/vtk\""
   ]
  },
  {
   "cell_type": "code",
   "execution_count": 6,
   "metadata": {},
   "outputs": [],
   "source": [
    "all_file = find_all_file(test_path)\n",
    "# 移动文件\n",
    "for file in all_file:\n",
    "    base_name = os.path.basename(file)\n",
    "    if file.find(\".stl\") != -1:\n",
    "        shutil.copyfile(file, os.path.join(stl_path, base_name))\n",
    "    if file.find(\".pts\") != -1:\n",
    "        shutil.copyfile(file, os.path.join(pts_path, base_name))"
   ]
  },
  {
   "cell_type": "code",
   "execution_count": 7,
   "metadata": {},
   "outputs": [
    {
     "name": "stdout",
     "output_type": "stream",
     "text": [
      "1237\n",
      "vtk file is saved in  /home/heygears/work/Tooth_data_prepare/tooth/need_change/vtk/459650_1_L_19.vtk\n",
      "1455\n",
      "vtk file is saved in  /home/heygears/work/Tooth_data_prepare/tooth/need_change/vtk/459650_1_L_17.vtk\n",
      "1585\n",
      "vtk file is saved in  /home/heygears/work/Tooth_data_prepare/tooth/need_change/vtk/459663_1_L_05.vtk\n",
      "1534\n",
      "vtk file is saved in  /home/heygears/work/Tooth_data_prepare/tooth/need_change/vtk/459663_1_L_10.vtk\n",
      "1486\n",
      "vtk file is saved in  /home/heygears/work/Tooth_data_prepare/tooth/need_change/vtk/459650_1_L_11.vtk\n",
      "1579\n",
      "vtk file is saved in  /home/heygears/work/Tooth_data_prepare/tooth/need_change/vtk/459663_1_L_15.vtk\n",
      "1608\n",
      "vtk file is saved in  /home/heygears/work/Tooth_data_prepare/tooth/need_change/vtk/459650_1_U_24.vtk\n",
      "1464\n",
      "vtk file is saved in  /home/heygears/work/Tooth_data_prepare/tooth/need_change/vtk/459650_1_U_20.vtk\n",
      "1473\n",
      "vtk file is saved in  /home/heygears/work/Tooth_data_prepare/tooth/need_change/vtk/459650_1_U_00.vtk\n",
      "1577\n",
      "vtk file is saved in  /home/heygears/work/Tooth_data_prepare/tooth/need_change/vtk/459650_1_U_10.vtk\n",
      "1772\n",
      "vtk file is saved in  /home/heygears/work/Tooth_data_prepare/tooth/need_change/vtk/459650_1_L_18.vtk\n",
      "1525\n",
      "vtk file is saved in  /home/heygears/work/Tooth_data_prepare/tooth/need_change/vtk/459663_1_L_00.vtk\n",
      "1151\n",
      "vtk file is saved in  /home/heygears/work/Tooth_data_prepare/tooth/need_change/vtk/459650_1_U_15.vtk\n",
      "1154\n",
      "vtk file is saved in  /home/heygears/work/Tooth_data_prepare/tooth/need_change/vtk/459650_1_L_23.vtk\n",
      "1600\n",
      "vtk file is saved in  /home/heygears/work/Tooth_data_prepare/tooth/need_change/vtk/459663_1_L_20.vtk\n"
     ]
    }
   ],
   "source": [
    "pts_list = glob.glob(os.path.join(pts_path, \"*.pts\"))\n",
    "for pts_file in pts_list:\n",
    "    pts = get_gum_line_pts(pts_file)\n",
    "    print(len(pts))\n",
    "    # save pts\n",
    "    basename = os.path.basename(pts_file)\n",
    "    save_pts_path = os.path.join(new_pts_path, basename)\n",
    "    np.savetxt(save_pts_path, pts, fmt='%.10f')\n",
    "    # save vtk\n",
    "    save_vtk_path = os.path.join(vtk_path, basename[:-3] + \"vtk\")\n",
    "    pts_to_vtk(pts, save_vtk_path)"
   ]
  },
  {
   "cell_type": "code",
   "execution_count": null,
   "metadata": {},
   "outputs": [],
   "source": []
  }
 ],
 "metadata": {
  "kernelspec": {
   "display_name": "Python 3",
   "language": "python",
   "name": "python3"
  },
  "language_info": {
   "codemirror_mode": {
    "name": "ipython",
    "version": 3
   },
   "file_extension": ".py",
   "mimetype": "text/x-python",
   "name": "python",
   "nbconvert_exporter": "python",
   "pygments_lexer": "ipython3",
   "version": "3.6.8"
  }
 },
 "nbformat": 4,
 "nbformat_minor": 4
}
